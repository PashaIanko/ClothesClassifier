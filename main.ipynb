{
  "nbformat": 4,
  "nbformat_minor": 0,
  "metadata": {
    "colab": {
      "name": "Fashion-Mnist.ipynb",
      "provenance": [],
      "collapsed_sections": []
    },
    "kernelspec": {
      "name": "python3",
      "display_name": "Python 3"
    },
    "language_info": {
      "name": "python"
    }
  },
  "cells": [
    {
      "cell_type": "markdown",
      "source": [
        "For this task the gold labels for the test set are available. I made a function below to ease the process of loading the dataset. Feel free to use it. "
      ],
      "metadata": {
        "id": "rWJoMor8RNwh"
      }
    },
    {
      "cell_type": "code",
      "metadata": {
        "id": "490C2OoPs4PX",
        "colab": {
          "base_uri": "https://localhost:8080/"
        },
        "outputId": "e888ac88-2cfb-4e50-dd1d-06165d26875a"
      },
      "source": [
        "import numpy as np\n",
        "from urllib.request import urlopen\n",
        "\n",
        "def load_fashion_mnist():\n",
        "    \n",
        "    url_base = \"https://www.math.unipd.it/~dasan/\"\n",
        "    Y_train = np.frombuffer(urlopen(url_base + \"train-labels-idx1-ubyte\").read(), dtype=np.uint8, offset=8)\n",
        "    X_train = np.frombuffer(urlopen(url_base + \"train-images-idx3-ubyte\").read(), dtype=np.uint8, offset=16).reshape(len(Y_train), 784) # besides loadng \n",
        "                                                                                            #the data, I already flatten it into a vector\n",
        "    Y_test = np.frombuffer(urlopen(url_base + \"t10k-labels-idx1-ubyte\").read(), dtype=np.uint8, offset=8)\n",
        "    X_test = np.frombuffer(urlopen(url_base + \"t10k-images-idx3-ubyte\").read(), dtype=np.uint8, offset=16).reshape(len(Y_test), 784)\n",
        "\n",
        "    return X_train, Y_train, X_test, Y_test\n"
      ],
      "execution_count": null,
      "outputs": [
        {
          "output_type": "stream",
          "name": "stdout",
          "text": [
            "(60000, 784) (60000,) (10000, 784) (10000,)\n"
          ]
        }
      ]
    },
    {
      "cell_type": "code",
      "metadata": {
        "colab": {
          "base_uri": "https://localhost:8080/"
        },
        "id": "CPzMfoAKxhxQ",
        "outputId": "b0e9f222-8418-43e8-9ffc-6438b20752f6"
      },
      "source": [
        "X_train, Y_train, X_test, Y_test = load_fashion_mnist() # you can use this function in your code to easily load the data\n",
        "print(X_train.shape, Y_train.shape, X_test.shape, Y_test.shape)"
      ],
      "execution_count": null,
      "outputs": [
        {
          "output_type": "stream",
          "name": "stdout",
          "text": [
            "(60000, 784) (60000,) (10000, 784) (10000,)\n"
          ]
        }
      ]
    }
  ]
}